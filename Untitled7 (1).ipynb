{
  "nbformat": 4,
  "nbformat_minor": 0,
  "metadata": {
    "colab": {
      "provenance": []
    },
    "kernelspec": {
      "name": "python3",
      "display_name": "Python 3"
    },
    "language_info": {
      "name": "python"
    }
  },
  "cells": [
    {
      "cell_type": "code",
      "execution_count": null,
      "metadata": {
        "id": "jA-eZLUodFoW"
      },
      "outputs": [],
      "source": [
        "Name:Anjali Sanjay Rajole\n",
        "\n",
        "feed forward nural network"
      ]
    },
    {
      "cell_type": "code",
      "source": [
        "from sklearn.preprocessing import LabelBinarizer\n",
        "\n",
        "from sklearn.metrics import classification_report\n",
        "from tensorflow.keras.models import Sequential\n",
        "from tensorflow.keras.layers import Dense\n",
        "from tensorflow.keras.optimizers import Adam\n",
        "from tensorflow.keras.datasets import mnist\n",
        "\n",
        "import matplotlib.pyplot as plt\n",
        "import numpy as np"
      ],
      "metadata": {
        "id": "b6q4jr3HdGqf"
      },
      "execution_count": 1,
      "outputs": []
    },
    {
      "cell_type": "code",
      "source": [
        "print(\"[INFO] accessing MNIST...\")\n",
        "((trainX, trainY),(testX, testY))=mnist.load_data()\n",
        "\n",
        "trainX=trainX.reshape((trainX.shape[0],28*28*1))\n",
        "testX=testX.reshape((testX.shape[0],28*28*1))\n",
        "\n",
        "trainX=trainX.astype(\"float32\")/255.0\n",
        "testX=testX.astype(\"float32\")/255.0"
      ],
      "metadata": {
        "colab": {
          "base_uri": "https://localhost:8080/"
        },
        "id": "26zQNRODdG40",
        "outputId": "33fc44e7-ad8f-4740-ccbe-376f729b1a3b"
      },
      "execution_count": 2,
      "outputs": [
        {
          "output_type": "stream",
          "name": "stdout",
          "text": [
            "[INFO] accessing MNIST...\n",
            "Downloading data from https://storage.googleapis.com/tensorflow/tf-keras-datasets/mnist.npz\n",
            "11490434/11490434 [==============================] - 0s 0us/step\n"
          ]
        }
      ]
    },
    {
      "cell_type": "code",
      "source": [
        "lb = LabelBinarizer()\n",
        "\n",
        "trainY=lb.fit_transform(trainY)\n",
        "testY=lb.transform(testY)"
      ],
      "metadata": {
        "id": "F1J89SCWdHOU"
      },
      "execution_count": 3,
      "outputs": []
    },
    {
      "cell_type": "code",
      "source": [
        "model=Sequential()\n",
        "model.add(Dense(256,input_shape=(784,),activation =\"relu\"))\n",
        "model.add(Dense(128,activation =\"relu\"))\n",
        "model.add(Dense(64,activation =\"relu\"))\n",
        "model.add(Dense(10,activation =\"softmax\"))\n",
        "\n",
        "print(\"[INFO] training network...\")\n",
        "Adm = Adam(0.01)\n",
        "model.compile(loss=\"categorical_crossentropy\",optimizer = Adm, metrics =[\"accuracy\"])\n",
        "H = model.fit(trainX, trainY, validation_data=(testX, testY), epochs=1, batch_size=128)\n"
      ],
      "metadata": {
        "colab": {
          "base_uri": "https://localhost:8080/"
        },
        "id": "kqRzexJedH6U",
        "outputId": "b8346e21-3837-4338-f95f-40a1197d04e1"
      },
      "execution_count": 4,
      "outputs": [
        {
          "output_type": "stream",
          "name": "stdout",
          "text": [
            "[INFO] training network...\n",
            "469/469 [==============================] - 6s 10ms/step - loss: 0.2524 - accuracy: 0.9226 - val_loss: 0.1500 - val_accuracy: 0.9569\n"
          ]
        }
      ]
    },
    {
      "cell_type": "code",
      "source": [
        "print(\"[INFO] evaluating network..\")\n",
        "predictions=model.predict(testX,batch_size=128)\n",
        "\n",
        "print(classification_report(testY.argmax(axis=1),predictions.argmax(axis=1),target_names=[str(x) for x in lb.classes_]))"
      ],
      "metadata": {
        "id": "7d9ki3ZPdIJe",
        "colab": {
          "base_uri": "https://localhost:8080/"
        },
        "outputId": "97cf275b-b413-4931-8315-173bc66266be"
      },
      "execution_count": 5,
      "outputs": [
        {
          "output_type": "stream",
          "name": "stdout",
          "text": [
            "[INFO] evaluating network..\n",
            "79/79 [==============================] - 1s 6ms/step\n",
            "              precision    recall  f1-score   support\n",
            "\n",
            "           0       0.95      0.99      0.97       980\n",
            "           1       0.98      0.98      0.98      1135\n",
            "           2       0.98      0.96      0.97      1032\n",
            "           3       0.91      0.98      0.94      1010\n",
            "           4       0.95      0.96      0.96       982\n",
            "           5       0.93      0.94      0.93       892\n",
            "           6       0.98      0.97      0.97       958\n",
            "           7       0.97      0.96      0.97      1028\n",
            "           8       0.97      0.90      0.93       974\n",
            "           9       0.97      0.92      0.94      1009\n",
            "\n",
            "    accuracy                           0.96     10000\n",
            "   macro avg       0.96      0.96      0.96     10000\n",
            "weighted avg       0.96      0.96      0.96     10000\n",
            "\n"
          ]
        }
      ]
    },
    {
      "cell_type": "code",
      "source": [
        "\n",
        "# plot the training loss and accuracy\n",
        "plt.style.use(\"ggplot\")\n",
        "plt.figure()\n",
        "epochs = len(H.history[\"loss\"])\n",
        "plt.plot(np.arange(0, epochs), H.history[\"loss\"], label=\"train_loss\")\n",
        "plt.plot(np.arange(0, epochs), H.history[\"val_loss\"], label=\"val_loss\")\n",
        "plt.plot(np.arange(0, epochs), H.history[\"accuracy\"], label=\"train_acc\")\n",
        "plt.plot(np.arange(0, epochs), H.history[\"val_accuracy\"], label=\"val_acc\")\n",
        "plt.title(\"Training Loss and Accuracy\")\n",
        "plt.xlabel(\"Epoch #\")\n",
        "plt.ylabel(\"Loss/Accuracy\")\n",
        "plt.legend()\n",
        "plt.show()\n"
      ],
      "metadata": {
        "colab": {
          "base_uri": "https://localhost:8080/",
          "height": 477
        },
        "id": "YB2NsEfrtoMJ",
        "outputId": "15c3f530-8156-40e4-cd41-a3b465a30820"
      },
      "execution_count": 6,
      "outputs": [
        {
          "output_type": "display_data",
          "data": {
            "text/plain": [
              "<Figure size 640x480 with 1 Axes>"
            ],
            "image/png": "[encoded data removed]"
          },
          "metadata": {}
        }
      ]
    }
  ]
}